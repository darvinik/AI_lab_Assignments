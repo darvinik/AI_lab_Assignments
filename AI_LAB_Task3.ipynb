{
  "nbformat": 4,
  "nbformat_minor": 0,
  "metadata": {
    "colab": {
      "provenance": []
    },
    "kernelspec": {
      "name": "python3",
      "display_name": "Python 3"
    },
    "language_info": {
      "name": "python"
    }
  },
  "cells": [
    {
      "cell_type": "code",
      "execution_count": 2,
      "metadata": {
        "colab": {
          "base_uri": "https://localhost:8080/"
        },
        "id": "rmriz6Zf6plV",
        "outputId": "a4844ca3-3e91-4e98-f3bd-826a5dc654da"
      },
      "outputs": [
        {
          "output_type": "stream",
          "name": "stdout",
          "text": [
            "Stack Representation at each step:\n",
            "Step 1: ['a']\n",
            "Step 2: ['b', 'a']\n",
            "Step 3: ['d', 'b', 'a']\n",
            "Step 4: ['c', 'a']\n",
            "Step 5: ['d', 'c', 'a']\n",
            "Step 6: ['e', 'c', 'a']\n"
          ]
        }
      ],
      "source": [
        "def dls(g, cur, lim, d=0, p=None, st=None):\n",
        "    if p is None:\n",
        "        p = []\n",
        "    if st is None:\n",
        "        st = []\n",
        "\n",
        "    p.append(cur)\n",
        "    st.append(list(reversed(p)))\n",
        "\n",
        "    if d == lim:\n",
        "        return\n",
        "\n",
        "    for n in g.get(cur, []):\n",
        "        dls(g, n, lim, d + 1, p, st)\n",
        "        p.pop()\n",
        "\n",
        "    return st\n",
        "\n",
        "g = {\n",
        "   'a': ['b', 'c'],\n",
        "    'b': ['d'],\n",
        "    'c': ['d', 'e'],\n",
        "    'd': ['f'],\n",
        "    'e': ['f'],\n",
        "    'f': []\n",
        "}\n",
        "\n",
        "s = 'a'\n",
        "l = 2\n",
        "\n",
        "st = dls(g, s, l)\n",
        "\n",
        "print(\"Stack Representation at each step:\")\n",
        "for i, stack in enumerate(st):\n",
        "    print(f\"Step {i+1}: {stack}\")"
      ]
    }
  ]
}